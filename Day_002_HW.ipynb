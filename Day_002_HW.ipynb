{
 "cells": [
  {
   "cell_type": "markdown",
   "metadata": {},
   "source": [
    "## [作業目標]\n",
    "了解機器學習適合應用的領域與範疇。"
   ]
  },
  {
   "cell_type": "markdown",
   "metadata": {},
   "source": [
    "## [作業重點]\n",
    "透過瞭解機器學習的運作方式，找出非常適用機器學習應用的領域及其原因"
   ]
  },
  {
   "cell_type": "markdown",
   "metadata": {},
   "source": [
    "## 作業\n",
    "請找出一個你認為機器學習可以發光發熱的領域並闡述原因? "
   ]
  },
  {
   "cell_type": "markdown",
   "metadata": {},
   "source": [
    "雖然機器學習是人工智慧的其中一個分支<br>\n",
    "但是深度學習又是機器學習的一個分支<br>\n",
    "而深度學習近年來取得巨大的成功<br>\n",
    "並且在深度學習成功後<br>\n",
    "許多領域都有巨大的成功<br>\n",
    "像是影像辨識、影像合成、翻譯、棋類遊戲、即時戰略遊戲<br>\n",
    "甚至是仿真行走的機器人也在深度學習後突然突飛猛進<br>\n",
    "本來很多領域需要很強的硬體來支撐算法<br>\n",
    "現在都可能可以用到一張高階顯卡就能辦到<br>\n",
    "這無疑幾乎讓深度學習快要代表整個人工智慧<br>\n",
    "而在攤開深度學習的目的<br>\n",
    "就是希望讓機器自己像人類一樣的學習<br>\n",
    "所以我認為深度學習就是人工智慧<br>\n",
    "依照上面的推理鏈串起來<br>\n",
    "我覺得機器學習可以在任何領域發光發熱<br>\n",
    "因為他就是讓機器像人類一樣學習<br>\n",
    "變成那個領域的專家<br>"
   ]
  },
  {
   "cell_type": "code",
   "execution_count": null,
   "metadata": {},
   "outputs": [],
   "source": []
  }
 ],
 "metadata": {
  "kernelspec": {
   "display_name": "Python 3",
   "language": "python",
   "name": "python3"
  },
  "language_info": {
   "codemirror_mode": {
    "name": "ipython",
    "version": 3
   },
   "file_extension": ".py",
   "mimetype": "text/x-python",
   "name": "python",
   "nbconvert_exporter": "python",
   "pygments_lexer": "ipython3",
   "version": "3.7.4"
  }
 },
 "nbformat": 4,
 "nbformat_minor": 2
}
